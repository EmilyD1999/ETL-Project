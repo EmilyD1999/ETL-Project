{
 "cells": [
  {
   "cell_type": "code",
   "execution_count": 1,
   "metadata": {},
   "outputs": [],
   "source": [
    "import json\n",
    "import pprint\n",
    "import requests\n",
    "import numpy as np\n",
    "import pandas as pd\n",
    "import matplotlib.pyplot as plt\n",
    "\n",
    "from bs4 import BeautifulSoup\n",
    "from IPython.display import display\n",
    "from matplotlib.lines import Line2D\n",
    "from sqlalchemy import create_engine\n",
    "\n",
    "engine = create_engine(\"sqlite:///project2.sqlite\")"
   ]
  },
  {
   "cell_type": "markdown",
   "metadata": {},
   "source": [
    "# DATA EXTRACTION"
   ]
  },
  {
   "cell_type": "markdown",
   "metadata": {},
   "source": [
    "### UK Data Extraction via .csv File(s) and Transformation"
   ]
  },
  {
   "cell_type": "code",
   "execution_count": 2,
   "metadata": {},
   "outputs": [
    {
     "data": {
      "text/html": [
       "<div>\n",
       "<style scoped>\n",
       "    .dataframe tbody tr th:only-of-type {\n",
       "        vertical-align: middle;\n",
       "    }\n",
       "\n",
       "    .dataframe tbody tr th {\n",
       "        vertical-align: top;\n",
       "    }\n",
       "\n",
       "    .dataframe thead th {\n",
       "        text-align: right;\n",
       "    }\n",
       "</style>\n",
       "<table border=\"1\" class=\"dataframe\">\n",
       "  <thead>\n",
       "    <tr style=\"text-align: right;\">\n",
       "      <th></th>\n",
       "      <th>Number</th>\n",
       "    </tr>\n",
       "    <tr>\n",
       "      <th>year</th>\n",
       "      <th></th>\n",
       "    </tr>\n",
       "  </thead>\n",
       "  <tbody>\n",
       "    <tr>\n",
       "      <th>15</th>\n",
       "      <td>3402114</td>\n",
       "    </tr>\n",
       "    <tr>\n",
       "      <th>16</th>\n",
       "      <td>4814467</td>\n",
       "    </tr>\n",
       "    <tr>\n",
       "      <th>17</th>\n",
       "      <td>5457761</td>\n",
       "    </tr>\n",
       "    <tr>\n",
       "      <th>18</th>\n",
       "      <td>5835033</td>\n",
       "    </tr>\n",
       "    <tr>\n",
       "      <th>19</th>\n",
       "      <td>6090632</td>\n",
       "    </tr>\n",
       "  </tbody>\n",
       "</table>\n",
       "</div>"
      ],
      "text/plain": [
       "       Number\n",
       "year         \n",
       "15    3402114\n",
       "16    4814467\n",
       "17    5457761\n",
       "18    5835033\n",
       "19    6090632"
      ]
     },
     "metadata": {},
     "output_type": "display_data"
    }
   ],
   "source": [
    "df = pd.read_csv(\"uk_data.csv\")\n",
    "df.columns = [\"Date\",\"Number\"]\n",
    "df.dropna(inplace=True)\n",
    "\n",
    "df.drop([2,3,5], inplace=True)\n",
    "\n",
    "df.reset_index(drop=True,inplace=True)\n",
    "df.set_index(\"Date\")\n",
    "\n",
    "# Data tansformation from .csv file. Taking data in dictionaries and adding a new column with only year, in order to be\n",
    "# able to 'groupby' in coming steps.\n",
    "df['Number'] = [int(num) for num in df['Number']]\n",
    "df['year'] = [dt[-2:] for dt in df.Date]\n",
    "\n",
    "# Groupping and summing by the newly added column to get total number of crimes per year.\n",
    "gpb = df.groupby('year').sum()\n",
    "\n",
    "# Removing the last year to match the year in other countries crime datasets.\n",
    "gpb = gpb[:-1]\n",
    "display(gpb)"
   ]
  },
  {
   "cell_type": "code",
   "execution_count": null,
   "metadata": {},
   "outputs": [],
   "source": [
    "'''\n",
    "ddd = df.Date[-2:].dt.year\n",
    "v = [dt[-2:] for dt in df.Date]\n",
    "print(v)\n",
    "'''"
   ]
  },
  {
   "cell_type": "code",
   "execution_count": 3,
   "metadata": {},
   "outputs": [],
   "source": [
    "# Worldometer wouldn't authorise data scraping (403 error) so using Wiki instead\n",
    "url = \"https://en.wikipedia.org/wiki/Demography_of_the_United_Kingdom#Population\"\n",
    "tables = pd.read_html(url)\n",
    "df = tables[18]\n",
    "df = df[115:120]"
   ]
  },
  {
   "cell_type": "code",
   "execution_count": 4,
   "metadata": {},
   "outputs": [
    {
     "name": "stderr",
     "output_type": "stream",
     "text": [
      "<ipython-input-4-745efe018ffb>:3: SettingWithCopyWarning: \n",
      "A value is trying to be set on a copy of a slice from a DataFrame.\n",
      "Try using .loc[row_indexer,col_indexer] = value instead\n",
      "\n",
      "See the caveats in the documentation: https://pandas.pydata.org/pandas-docs/stable/user_guide/indexing.html#returning-a-view-versus-a-copy\n",
      "  uk_pop_df[\"Date\"] = uk_pop_df[\"Date\"].astype(str)\n",
      "<ipython-input-4-745efe018ffb>:4: SettingWithCopyWarning: \n",
      "A value is trying to be set on a copy of a slice from a DataFrame.\n",
      "Try using .loc[row_indexer,col_indexer] = value instead\n",
      "\n",
      "See the caveats in the documentation: https://pandas.pydata.org/pandas-docs/stable/user_guide/indexing.html#returning-a-view-versus-a-copy\n",
      "  uk_pop_df[\"year\"] = [dt[-2:] for dt in uk_pop_df.Date]\n"
     ]
    },
    {
     "data": {
      "text/html": [
       "<div>\n",
       "<style scoped>\n",
       "    .dataframe tbody tr th:only-of-type {\n",
       "        vertical-align: middle;\n",
       "    }\n",
       "\n",
       "    .dataframe tbody tr th {\n",
       "        vertical-align: top;\n",
       "    }\n",
       "\n",
       "    .dataframe thead th {\n",
       "        text-align: right;\n",
       "    }\n",
       "</style>\n",
       "<table border=\"1\" class=\"dataframe\">\n",
       "  <thead>\n",
       "    <tr style=\"text-align: right;\">\n",
       "      <th></th>\n",
       "      <th>Population</th>\n",
       "    </tr>\n",
       "    <tr>\n",
       "      <th>year</th>\n",
       "      <th></th>\n",
       "    </tr>\n",
       "  </thead>\n",
       "  <tbody>\n",
       "    <tr>\n",
       "      <th>15</th>\n",
       "      <td>65110000.0</td>\n",
       "    </tr>\n",
       "    <tr>\n",
       "      <th>16</th>\n",
       "      <td>65648000.0</td>\n",
       "    </tr>\n",
       "    <tr>\n",
       "      <th>17</th>\n",
       "      <td>66040200.0</td>\n",
       "    </tr>\n",
       "    <tr>\n",
       "      <th>18</th>\n",
       "      <td>66436000.0</td>\n",
       "    </tr>\n",
       "    <tr>\n",
       "      <th>19</th>\n",
       "      <td>66797000.0</td>\n",
       "    </tr>\n",
       "  </tbody>\n",
       "</table>\n",
       "</div>"
      ],
      "text/plain": [
       "      Population\n",
       "year            \n",
       "15    65110000.0\n",
       "16    65648000.0\n",
       "17    66040200.0\n",
       "18    66436000.0\n",
       "19    66797000.0"
      ]
     },
     "execution_count": 4,
     "metadata": {},
     "output_type": "execute_result"
    }
   ],
   "source": [
    "uk_pop_df = df[[\"Unnamed: 0\", \"Average population[42]\"]]\n",
    "uk_pop_df.columns = [\"Date\", \"Population\"]\n",
    "uk_pop_df[\"Date\"] = uk_pop_df[\"Date\"].astype(str)\n",
    "uk_pop_df[\"year\"] = [dt[-2:] for dt in uk_pop_df.Date]\n",
    "uk_pop_df = uk_pop_df[[\"Population\", \"year\"]]\n",
    "uk_pop_df = uk_pop_df.set_index(\"year\")\n",
    "\n",
    "uk_pop_df"
   ]
  },
  {
   "cell_type": "code",
   "execution_count": 5,
   "metadata": {},
   "outputs": [
    {
     "data": {
      "text/html": [
       "<div>\n",
       "<style scoped>\n",
       "    .dataframe tbody tr th:only-of-type {\n",
       "        vertical-align: middle;\n",
       "    }\n",
       "\n",
       "    .dataframe tbody tr th {\n",
       "        vertical-align: top;\n",
       "    }\n",
       "\n",
       "    .dataframe thead th {\n",
       "        text-align: right;\n",
       "    }\n",
       "</style>\n",
       "<table border=\"1\" class=\"dataframe\">\n",
       "  <thead>\n",
       "    <tr style=\"text-align: right;\">\n",
       "      <th></th>\n",
       "      <th>Number</th>\n",
       "      <th>Population</th>\n",
       "      <th>Rate per 100,000</th>\n",
       "    </tr>\n",
       "    <tr>\n",
       "      <th>year</th>\n",
       "      <th></th>\n",
       "      <th></th>\n",
       "      <th></th>\n",
       "    </tr>\n",
       "  </thead>\n",
       "  <tbody>\n",
       "    <tr>\n",
       "      <th>15</th>\n",
       "      <td>3402114</td>\n",
       "      <td>65110000.0</td>\n",
       "      <td>5225.178928</td>\n",
       "    </tr>\n",
       "    <tr>\n",
       "      <th>16</th>\n",
       "      <td>4814467</td>\n",
       "      <td>65648000.0</td>\n",
       "      <td>7333.760358</td>\n",
       "    </tr>\n",
       "    <tr>\n",
       "      <th>17</th>\n",
       "      <td>5457761</td>\n",
       "      <td>66040200.0</td>\n",
       "      <td>8264.301138</td>\n",
       "    </tr>\n",
       "    <tr>\n",
       "      <th>18</th>\n",
       "      <td>5835033</td>\n",
       "      <td>66436000.0</td>\n",
       "      <td>8782.938467</td>\n",
       "    </tr>\n",
       "    <tr>\n",
       "      <th>19</th>\n",
       "      <td>6090632</td>\n",
       "      <td>66797000.0</td>\n",
       "      <td>9118.122071</td>\n",
       "    </tr>\n",
       "  </tbody>\n",
       "</table>\n",
       "</div>"
      ],
      "text/plain": [
       "       Number  Population  Rate per 100,000\n",
       "year                                       \n",
       "15    3402114  65110000.0       5225.178928\n",
       "16    4814467  65648000.0       7333.760358\n",
       "17    5457761  66040200.0       8264.301138\n",
       "18    5835033  66436000.0       8782.938467\n",
       "19    6090632  66797000.0       9118.122071"
      ]
     },
     "execution_count": 5,
     "metadata": {},
     "output_type": "execute_result"
    }
   ],
   "source": [
    "gpb = gpb.merge(uk_pop_df, how = \"outer\", left_index = True, right_index = True)\n",
    "gpb[\"Rate per 100,000\"] = gpb[\"Number\"]/gpb[\"Population\"]*100000\n",
    "gpb"
   ]
  },
  {
   "cell_type": "markdown",
   "metadata": {},
   "source": [
    "**UK Data Report**"
   ]
  },
  {
   "cell_type": "markdown",
   "metadata": {},
   "source": [
    "The UK crime data was read in via a csv which can be found here: https://www.ons.gov.uk/peoplepopulationandcommunity/crimeandjustice/bulletins/crimeinenglandandwales/yearendingjune2020#:~:text=The%20police%20recorded%205.8%20million,July%202019%20to%20March%202020.&text=Overall%2C%20theft%20offences%20fell%20by,the%20year%20ending%20June%202020\n",
    "Once loaded, irrelevant rows had to be dropped and the date set as the index. Since the date was recorded quarterly with the date column as a string only the last two elements of the string (i.e. the part of the string containing the year) were kept and the groupby and sum functions were used to combine quarterly crime counts into a yearly total.\n",
    "\n",
    "Following this, population data for the UK was scraped from wikipedia (https://en.wikipedia.org/wiki/Demography_of_the_United_Kingdom#Population) using the pd.read_html method (the official worldometer could not be used because they do not allow data to be scraped from their website (403 error)). This population data was then filtered so that only the population values in the UK for each year for which we had crime data was present, then the date was set as the index of this dataframe and the format of the date was changed to match that of the UK crime (gpb) dataframe allowing the two dataframes to be merged on their shared index. Formatting the date column in the population dataframe involved setting the data type to string and then once again dropping all but the last two characters in that string.\n",
    "\n",
    "Finally, a simple calaculation was used (total_crime X 100,000 / population) on each row to calculate the rate of crime per 100,000 people, which is a standard used to compare crime rates across different countries."
   ]
  },
  {
   "cell_type": "markdown",
   "metadata": {},
   "source": [
    "### Canada Data Extraction via Scraping and Transformation"
   ]
  },
  {
   "cell_type": "code",
   "execution_count": 6,
   "metadata": {},
   "outputs": [],
   "source": [
    "url = \"https://www150.statcan.gc.ca/t1/tbl1/en/tv.action?pid=3510017701\"\n",
    "tables = pd.read_html(url)\n",
    "df = tables[0]\n",
    "df.columns = [\"statistics\", \"2015\", \"2016\", \"2017\", \"2018\", \"2019\"]\n",
    "df  = df.T"
   ]
  },
  {
   "cell_type": "code",
   "execution_count": 7,
   "metadata": {},
   "outputs": [
    {
     "data": {
      "text/html": [
       "<div>\n",
       "<style scoped>\n",
       "    .dataframe tbody tr th:only-of-type {\n",
       "        vertical-align: middle;\n",
       "    }\n",
       "\n",
       "    .dataframe tbody tr th {\n",
       "        vertical-align: top;\n",
       "    }\n",
       "\n",
       "    .dataframe thead th {\n",
       "        text-align: right;\n",
       "    }\n",
       "</style>\n",
       "<table border=\"1\" class=\"dataframe\">\n",
       "  <thead>\n",
       "    <tr style=\"text-align: right;\">\n",
       "      <th></th>\n",
       "      <th>Number</th>\n",
       "      <th>Rate per 100,000</th>\n",
       "      <th>Population</th>\n",
       "    </tr>\n",
       "  </thead>\n",
       "  <tbody>\n",
       "    <tr>\n",
       "      <th>2015</th>\n",
       "      <td>2118681</td>\n",
       "      <td>5934.20</td>\n",
       "      <td>35702892</td>\n",
       "    </tr>\n",
       "    <tr>\n",
       "      <th>2016</th>\n",
       "      <td>2161927</td>\n",
       "      <td>5987.14</td>\n",
       "      <td>36109511</td>\n",
       "    </tr>\n",
       "    <tr>\n",
       "      <th>2017</th>\n",
       "      <td>2213293</td>\n",
       "      <td>6056.63</td>\n",
       "      <td>36543309</td>\n",
       "    </tr>\n",
       "    <tr>\n",
       "      <th>2018</th>\n",
       "      <td>2280328</td>\n",
       "      <td>6153.44</td>\n",
       "      <td>37057776</td>\n",
       "    </tr>\n",
       "    <tr>\n",
       "      <th>2019</th>\n",
       "      <td>2438518</td>\n",
       "      <td>6487.27</td>\n",
       "      <td>37589279</td>\n",
       "    </tr>\n",
       "  </tbody>\n",
       "</table>\n",
       "</div>"
      ],
      "text/plain": [
       "       Number  Rate per 100,000  Population\n",
       "2015  2118681           5934.20    35702892\n",
       "2016  2161927           5987.14    36109511\n",
       "2017  2213293           6056.63    36543309\n",
       "2018  2280328           6153.44    37057776\n",
       "2019  2438518           6487.27    37589279"
      ]
     },
     "execution_count": 7,
     "metadata": {},
     "output_type": "execute_result"
    }
   ],
   "source": [
    "#Select relevant columns\n",
    "can_df = df[[1, 3]]\n",
    "can_df.columns  = [\"Number\", \"Rate per 100,000\"]\n",
    "can_df = can_df[1:]\n",
    "can_df[\"Number\"] = can_df[\"Number\"].astype(np.int64)\n",
    "can_df[\"Rate per 100,000\"] = can_df[\"Rate per 100,000\"].astype(float)\n",
    "can_df[\"Population\"] = round(can_df[\"Number\"] * 100000 / can_df[\"Rate per 100,000\"], 0)\n",
    "can_df[\"Population\"] = can_df[\"Population\"].astype(np.int64)\n",
    "can_df"
   ]
  },
  {
   "cell_type": "markdown",
   "metadata": {},
   "source": [
    "**Canadian Data Report**"
   ]
  },
  {
   "cell_type": "markdown",
   "metadata": {},
   "source": [
    "Data for Canadian crime was scraped from https://www150.statcan.gc.ca/t1/tbl1/en/tv.action?pid=3510017701 using the pd.read_html method. As this table was set upon the opposite axis to how we would be using it the columns, which would become our rows, were renamed as this would later become the index. The table was then transposed and the relevant columns were selected and once again renamed, this time to give column headers and finally, the row at index 0 was then dropped as this contained a second row of column headers.\n",
    "\n",
    "Since this data set already had the crime rate per 100,000 people a formula was used to obtain the population data (population = total_crime X 100,000 / rate_per_100,000) to do this the data types had to be converted from string to float for rate, and from string to int64 (large integer) for total crime and population. This method for obtaining the population data was chosen over further data scraping because it accounts for small descrepancies in the recorded population that may arise from using a different source to the Canadian government; with this method our population value is the same as that used by the Canadian government when they performed their rate calculations."
   ]
  },
  {
   "cell_type": "markdown",
   "metadata": {},
   "source": [
    "### US Data Extraction via Scraping and Transformation"
   ]
  },
  {
   "cell_type": "code",
   "execution_count": 8,
   "metadata": {
    "scrolled": true
   },
   "outputs": [],
   "source": [
    "url = \"http://www.disastercenter.com/crime/uscrime.htm\"\n",
    "tables = pd.read_html(url)\n",
    "df = tables[1]\n",
    "df_number = df[72:77]\n",
    "df_number.reset_index(inplace = True)\n",
    "\n",
    "df_rate = df[149:154]\n",
    "df_rate.reset_index(inplace = True)"
   ]
  },
  {
   "cell_type": "code",
   "execution_count": 9,
   "metadata": {},
   "outputs": [],
   "source": [
    "df_rate = df_rate[[0, 2]]\n",
    "df_rate.columns = [\"Date\", \"Rate per 100,000\"]"
   ]
  },
  {
   "cell_type": "code",
   "execution_count": 10,
   "metadata": {},
   "outputs": [],
   "source": [
    "df_number = df_number[[0, 2]]\n",
    "df_number.columns = [\"Date\", \"Number\"]"
   ]
  },
  {
   "cell_type": "code",
   "execution_count": 11,
   "metadata": {},
   "outputs": [
    {
     "data": {
      "text/html": [
       "<div>\n",
       "<style scoped>\n",
       "    .dataframe tbody tr th:only-of-type {\n",
       "        vertical-align: middle;\n",
       "    }\n",
       "\n",
       "    .dataframe tbody tr th {\n",
       "        vertical-align: top;\n",
       "    }\n",
       "\n",
       "    .dataframe thead th {\n",
       "        text-align: right;\n",
       "    }\n",
       "</style>\n",
       "<table border=\"1\" class=\"dataframe\">\n",
       "  <thead>\n",
       "    <tr style=\"text-align: right;\">\n",
       "      <th></th>\n",
       "      <th>Date</th>\n",
       "      <th>Number</th>\n",
       "      <th>Rate per 100,000</th>\n",
       "    </tr>\n",
       "  </thead>\n",
       "  <tbody>\n",
       "    <tr>\n",
       "      <th>0</th>\n",
       "      <td>2015</td>\n",
       "      <td>9258298</td>\n",
       "      <td>2885.1</td>\n",
       "    </tr>\n",
       "    <tr>\n",
       "      <th>1</th>\n",
       "      <td>2016</td>\n",
       "      <td>9214136</td>\n",
       "      <td>2849.1</td>\n",
       "    </tr>\n",
       "    <tr>\n",
       "      <th>2</th>\n",
       "      <td>2017</td>\n",
       "      <td>8966863</td>\n",
       "      <td>2757.8</td>\n",
       "    </tr>\n",
       "    <tr>\n",
       "      <th>3</th>\n",
       "      <td>2018</td>\n",
       "      <td>8471483</td>\n",
       "      <td>2593.2</td>\n",
       "    </tr>\n",
       "    <tr>\n",
       "      <th>4</th>\n",
       "      <td>2019</td>\n",
       "      <td>8171087</td>\n",
       "      <td>2489.3</td>\n",
       "    </tr>\n",
       "  </tbody>\n",
       "</table>\n",
       "</div>"
      ],
      "text/plain": [
       "   Date   Number Rate per 100,000\n",
       "0  2015  9258298           2885.1\n",
       "1  2016  9214136           2849.1\n",
       "2  2017  8966863           2757.8\n",
       "3  2018  8471483           2593.2\n",
       "4  2019  8171087           2489.3"
      ]
     },
     "execution_count": 11,
     "metadata": {},
     "output_type": "execute_result"
    }
   ],
   "source": [
    "us_df = df_number.merge(df_rate, how = \"outer\")\n",
    "us_df"
   ]
  },
  {
   "cell_type": "code",
   "execution_count": 12,
   "metadata": {},
   "outputs": [
    {
     "data": {
      "text/html": [
       "<div>\n",
       "<style scoped>\n",
       "    .dataframe tbody tr th:only-of-type {\n",
       "        vertical-align: middle;\n",
       "    }\n",
       "\n",
       "    .dataframe tbody tr th {\n",
       "        vertical-align: top;\n",
       "    }\n",
       "\n",
       "    .dataframe thead th {\n",
       "        text-align: right;\n",
       "    }\n",
       "</style>\n",
       "<table border=\"1\" class=\"dataframe\">\n",
       "  <thead>\n",
       "    <tr style=\"text-align: right;\">\n",
       "      <th></th>\n",
       "      <th>Date</th>\n",
       "      <th>Number</th>\n",
       "      <th>Rate per 100,000</th>\n",
       "      <th>Population</th>\n",
       "    </tr>\n",
       "  </thead>\n",
       "  <tbody>\n",
       "    <tr>\n",
       "      <th>0</th>\n",
       "      <td>2015</td>\n",
       "      <td>9258298</td>\n",
       "      <td>2885.1</td>\n",
       "      <td>320900419</td>\n",
       "    </tr>\n",
       "    <tr>\n",
       "      <th>1</th>\n",
       "      <td>2016</td>\n",
       "      <td>9214136</td>\n",
       "      <td>2849.1</td>\n",
       "      <td>323405145</td>\n",
       "    </tr>\n",
       "    <tr>\n",
       "      <th>2</th>\n",
       "      <td>2017</td>\n",
       "      <td>8966863</td>\n",
       "      <td>2757.8</td>\n",
       "      <td>325145515</td>\n",
       "    </tr>\n",
       "    <tr>\n",
       "      <th>3</th>\n",
       "      <td>2018</td>\n",
       "      <td>8471483</td>\n",
       "      <td>2593.2</td>\n",
       "      <td>326680665</td>\n",
       "    </tr>\n",
       "    <tr>\n",
       "      <th>4</th>\n",
       "      <td>2019</td>\n",
       "      <td>8171087</td>\n",
       "      <td>2489.3</td>\n",
       "      <td>328248383</td>\n",
       "    </tr>\n",
       "  </tbody>\n",
       "</table>\n",
       "</div>"
      ],
      "text/plain": [
       "   Date   Number  Rate per 100,000  Population\n",
       "0  2015  9258298            2885.1   320900419\n",
       "1  2016  9214136            2849.1   323405145\n",
       "2  2017  8966863            2757.8   325145515\n",
       "3  2018  8471483            2593.2   326680665\n",
       "4  2019  8171087            2489.3   328248383"
      ]
     },
     "execution_count": 12,
     "metadata": {},
     "output_type": "execute_result"
    }
   ],
   "source": [
    "us_df[\"Number\"] = us_df[\"Number\"].astype(np.int64)\n",
    "us_df[\"Rate per 100,000\"] = us_df[\"Rate per 100,000\"].astype(float)\n",
    "us_df[\"Population\"] = round(us_df[\"Number\"] * 100000 / us_df[\"Rate per 100,000\"], 0)\n",
    "us_df[\"Population\"] = us_df[\"Population\"].astype(np.int64)\n",
    "us_df"
   ]
  },
  {
   "cell_type": "markdown",
   "metadata": {},
   "source": [
    "**US Data Report**"
   ]
  },
  {
   "cell_type": "markdown",
   "metadata": {},
   "source": [
    "The US crime data was scraped from http://www.disastercenter.com/crime/uscrime.htm using the pd.read_html method. Due to the formatting of this table, a dataframe for rate and a dataframe for total number of crimes had to be created seperately (rate and number were in the same column). To do this the rows corresponding to number at the required dates and the rows corresponding to rate at the required dates were used to create two small dataframes. Each of these dataframes then had irrelevant columns dropped and had their column headers renamed. A merge was then performed on the date so that number and rate were now consolidated into one dataframe.\n",
    "\n",
    "As with the Canadian data, the rate per 100,000 and total number of crime values were used to obtain the US population for each year."
   ]
  },
  {
   "cell_type": "markdown",
   "metadata": {},
   "source": [
    "### Australian Data Extraction via Scraping and Transformation"
   ]
  },
  {
   "cell_type": "code",
   "execution_count": 13,
   "metadata": {},
   "outputs": [],
   "source": [
    "aus_url = \"https://www.abs.gov.au/statistics/people/crime-and-justice/recorded-crime-offenders/2019-20\"\n",
    "page = requests.get(aus_url)\n",
    "aus_soup = BeautifulSoup(page.text, 'html.parser')"
   ]
  },
  {
   "cell_type": "markdown",
   "metadata": {},
   "source": [
    "We indexed Australian dataset (from thousands to millions) in order to match it with the other datasets i.e. US, UK and Canada."
   ]
  },
  {
   "cell_type": "code",
   "execution_count": 14,
   "metadata": {},
   "outputs": [
    {
     "data": {
      "text/html": [
       "<div>\n",
       "<style scoped>\n",
       "    .dataframe tbody tr th:only-of-type {\n",
       "        vertical-align: middle;\n",
       "    }\n",
       "\n",
       "    .dataframe tbody tr th {\n",
       "        vertical-align: top;\n",
       "    }\n",
       "\n",
       "    .dataframe thead th {\n",
       "        text-align: right;\n",
       "    }\n",
       "</style>\n",
       "<table border=\"1\" class=\"dataframe\">\n",
       "  <thead>\n",
       "    <tr style=\"text-align: right;\">\n",
       "      <th></th>\n",
       "      <th>Date</th>\n",
       "      <th>Numbers</th>\n",
       "    </tr>\n",
       "  </thead>\n",
       "  <tbody>\n",
       "    <tr>\n",
       "      <th>0</th>\n",
       "      <td>2015-16</td>\n",
       "      <td>64014</td>\n",
       "    </tr>\n",
       "    <tr>\n",
       "      <th>1</th>\n",
       "      <td>2016-17</td>\n",
       "      <td>61198</td>\n",
       "    </tr>\n",
       "    <tr>\n",
       "      <th>2</th>\n",
       "      <td>2017-18</td>\n",
       "      <td>61237</td>\n",
       "    </tr>\n",
       "    <tr>\n",
       "      <th>3</th>\n",
       "      <td>2018-19</td>\n",
       "      <td>53583</td>\n",
       "    </tr>\n",
       "    <tr>\n",
       "      <th>4</th>\n",
       "      <td>2019-20</td>\n",
       "      <td>40975</td>\n",
       "    </tr>\n",
       "  </tbody>\n",
       "</table>\n",
       "</div>"
      ],
      "text/plain": [
       "      Date  Numbers\n",
       "0  2015-16    64014\n",
       "1  2016-17    61198\n",
       "2  2017-18    61237\n",
       "3  2018-19    53583\n",
       "4  2019-20    40975"
      ]
     },
     "metadata": {},
     "output_type": "display_data"
    }
   ],
   "source": [
    "aus_scrp = aus_soup.find_all(\"table\")\n",
    "aa = aus_scrp[0].find_all('th')\n",
    "bb = aus_scrp[0].find_all('td')\n",
    "data = {'Date':[],'Numbers':[]}\n",
    "for year, number in zip(aa[-5:],bb[-5:]):\n",
    "    data['Date'].append(year.text)\n",
    "    data['Numbers'].append(int(number.text.replace(',','')))    \n",
    "\n",
    "aus_data = pd.DataFrame(data)\n",
    "display(aus_data)"
   ]
  },
  {
   "cell_type": "markdown",
   "metadata": {},
   "source": [
    "**Australian Data Report**"
   ]
  },
  {
   "cell_type": "markdown",
   "metadata": {},
   "source": [
    "The Australian crime data was scraped from \"https://www.abs.gov.au/statistics/people/crime-and-justice/recorded-crime-offenders/2019-20\" using the \"BeautifulSoup\" method. There were a couple of limitations regarding Australian data:\n",
    "1. The crime data is available for a particular type of crime, not all crimes in general;\n",
    "2. The crime data is not available on the national level, rather it was available on the state-level so, we performed two transformations for the Australian data: indexed the data (from thousands to millions) in order to match it with the other datasets i.e. US, UK and Canada; and, added the state-level data to convert it to national data."
   ]
  },
  {
   "cell_type": "markdown",
   "metadata": {},
   "source": [
    "### Combined Crime Record: US, UK, Canada & Australia"
   ]
  },
  {
   "cell_type": "code",
   "execution_count": 15,
   "metadata": {},
   "outputs": [
    {
     "data": {
      "text/html": [
       "<div>\n",
       "<style scoped>\n",
       "    .dataframe tbody tr th:only-of-type {\n",
       "        vertical-align: middle;\n",
       "    }\n",
       "\n",
       "    .dataframe tbody tr th {\n",
       "        vertical-align: top;\n",
       "    }\n",
       "\n",
       "    .dataframe thead th {\n",
       "        text-align: right;\n",
       "    }\n",
       "</style>\n",
       "<table border=\"1\" class=\"dataframe\">\n",
       "  <thead>\n",
       "    <tr style=\"text-align: right;\">\n",
       "      <th></th>\n",
       "      <th>Date</th>\n",
       "      <th>US Total</th>\n",
       "      <th>US Rate per 100,000</th>\n",
       "      <th>Australia Total</th>\n",
       "      <th>Canada Total</th>\n",
       "      <th>Canada Rate per 100,000</th>\n",
       "      <th>UK Total</th>\n",
       "      <th>UK Rate per 100,000</th>\n",
       "    </tr>\n",
       "  </thead>\n",
       "  <tbody>\n",
       "    <tr>\n",
       "      <th>0</th>\n",
       "      <td>2015</td>\n",
       "      <td>9258298</td>\n",
       "      <td>2885.1</td>\n",
       "      <td>64014</td>\n",
       "      <td>2118681</td>\n",
       "      <td>5934.20</td>\n",
       "      <td>3402114</td>\n",
       "      <td>5225.178928</td>\n",
       "    </tr>\n",
       "    <tr>\n",
       "      <th>1</th>\n",
       "      <td>2016</td>\n",
       "      <td>9214136</td>\n",
       "      <td>2849.1</td>\n",
       "      <td>61198</td>\n",
       "      <td>2161927</td>\n",
       "      <td>5987.14</td>\n",
       "      <td>4814467</td>\n",
       "      <td>7333.760358</td>\n",
       "    </tr>\n",
       "    <tr>\n",
       "      <th>2</th>\n",
       "      <td>2017</td>\n",
       "      <td>8966863</td>\n",
       "      <td>2757.8</td>\n",
       "      <td>61237</td>\n",
       "      <td>2213293</td>\n",
       "      <td>6056.63</td>\n",
       "      <td>5457761</td>\n",
       "      <td>8264.301138</td>\n",
       "    </tr>\n",
       "    <tr>\n",
       "      <th>3</th>\n",
       "      <td>2018</td>\n",
       "      <td>8471483</td>\n",
       "      <td>2593.2</td>\n",
       "      <td>53583</td>\n",
       "      <td>2280328</td>\n",
       "      <td>6153.44</td>\n",
       "      <td>5835033</td>\n",
       "      <td>8782.938467</td>\n",
       "    </tr>\n",
       "    <tr>\n",
       "      <th>4</th>\n",
       "      <td>2019</td>\n",
       "      <td>8171087</td>\n",
       "      <td>2489.3</td>\n",
       "      <td>40975</td>\n",
       "      <td>2438518</td>\n",
       "      <td>6487.27</td>\n",
       "      <td>6090632</td>\n",
       "      <td>9118.122071</td>\n",
       "    </tr>\n",
       "  </tbody>\n",
       "</table>\n",
       "</div>"
      ],
      "text/plain": [
       "   Date  US Total  US Rate per 100,000  Australia Total  Canada Total  \\\n",
       "0  2015   9258298               2885.1            64014       2118681   \n",
       "1  2016   9214136               2849.1            61198       2161927   \n",
       "2  2017   8966863               2757.8            61237       2213293   \n",
       "3  2018   8471483               2593.2            53583       2280328   \n",
       "4  2019   8171087               2489.3            40975       2438518   \n",
       "\n",
       "   Canada Rate per 100,000  UK Total  UK Rate per 100,000  \n",
       "0                  5934.20   3402114          5225.178928  \n",
       "1                  5987.14   4814467          7333.760358  \n",
       "2                  6056.63   5457761          8264.301138  \n",
       "3                  6153.44   5835033          8782.938467  \n",
       "4                  6487.27   6090632          9118.122071  "
      ]
     },
     "metadata": {},
     "output_type": "display_data"
    }
   ],
   "source": [
    "data = us_df[[\"Date\", \"Number\", \"Rate per 100,000\"]]\n",
    "data.columns = ['Date','US Total', \"US Rate per 100,000\"]\n",
    "data['Australia Total'] = list(aus_data['Numbers'])\n",
    "data['Canada Total'] = list(can_df['Number'])\n",
    "data['Canada Rate per 100,000'] = list(can_df['Rate per 100,000'])\n",
    "data['UK Total'] = list(gpb['Number'])\n",
    "data['UK Rate per 100,000'] = list(gpb['Rate per 100,000'])\n",
    "\n",
    "display(data)"
   ]
  },
  {
   "cell_type": "markdown",
   "metadata": {},
   "source": [
    "**Combined Data Report**"
   ]
  },
  {
   "cell_type": "markdown",
   "metadata": {},
   "source": [
    "To create a combined dataframe to compare the crime in each country the US dataframe was used as a starting point. First the population data was removed as this was not seen as being directly relevant to the comparison wherein the most important data is the crime rate of each country. Then the total crime and crime rates of Canada and the UK were added to this dataframe to give the dataframe seen above."
   ]
  },
  {
   "cell_type": "markdown",
   "metadata": {},
   "source": [
    "# DATA LOADING"
   ]
  },
  {
   "cell_type": "code",
   "execution_count": 16,
   "metadata": {},
   "outputs": [],
   "source": [
    "data.to_sql(\"combined_data\", engine, if_exists = 'replace')\n",
    "gpb.to_sql(\"UK_data\", engine, if_exists = 'replace')\n",
    "can_df.to_sql(\"Canada_data\", engine, if_exists = 'replace')\n",
    "us_df.to_sql(\"US_data\", engine, if_exists = 'replace')\n",
    "aus_data.to_sql(\"AUS_data\", engine, if_exists = 'replace')"
   ]
  },
  {
   "cell_type": "code",
   "execution_count": 17,
   "metadata": {},
   "outputs": [
    {
     "data": {
      "text/html": [
       "<div>\n",
       "<style scoped>\n",
       "    .dataframe tbody tr th:only-of-type {\n",
       "        vertical-align: middle;\n",
       "    }\n",
       "\n",
       "    .dataframe tbody tr th {\n",
       "        vertical-align: top;\n",
       "    }\n",
       "\n",
       "    .dataframe thead th {\n",
       "        text-align: right;\n",
       "    }\n",
       "</style>\n",
       "<table border=\"1\" class=\"dataframe\">\n",
       "  <thead>\n",
       "    <tr style=\"text-align: right;\">\n",
       "      <th></th>\n",
       "      <th>index</th>\n",
       "      <th>Date</th>\n",
       "      <th>US Total</th>\n",
       "      <th>US Rate per 100,000</th>\n",
       "      <th>Australia Total</th>\n",
       "      <th>Canada Total</th>\n",
       "      <th>Canada Rate per 100,000</th>\n",
       "      <th>UK Total</th>\n",
       "      <th>UK Rate per 100,000</th>\n",
       "    </tr>\n",
       "  </thead>\n",
       "  <tbody>\n",
       "    <tr>\n",
       "      <th>0</th>\n",
       "      <td>0</td>\n",
       "      <td>2015</td>\n",
       "      <td>9258298</td>\n",
       "      <td>2885.1</td>\n",
       "      <td>64014</td>\n",
       "      <td>2118681</td>\n",
       "      <td>5934.20</td>\n",
       "      <td>3402114</td>\n",
       "      <td>5225.178928</td>\n",
       "    </tr>\n",
       "    <tr>\n",
       "      <th>1</th>\n",
       "      <td>1</td>\n",
       "      <td>2016</td>\n",
       "      <td>9214136</td>\n",
       "      <td>2849.1</td>\n",
       "      <td>61198</td>\n",
       "      <td>2161927</td>\n",
       "      <td>5987.14</td>\n",
       "      <td>4814467</td>\n",
       "      <td>7333.760358</td>\n",
       "    </tr>\n",
       "    <tr>\n",
       "      <th>2</th>\n",
       "      <td>2</td>\n",
       "      <td>2017</td>\n",
       "      <td>8966863</td>\n",
       "      <td>2757.8</td>\n",
       "      <td>61237</td>\n",
       "      <td>2213293</td>\n",
       "      <td>6056.63</td>\n",
       "      <td>5457761</td>\n",
       "      <td>8264.301138</td>\n",
       "    </tr>\n",
       "    <tr>\n",
       "      <th>3</th>\n",
       "      <td>3</td>\n",
       "      <td>2018</td>\n",
       "      <td>8471483</td>\n",
       "      <td>2593.2</td>\n",
       "      <td>53583</td>\n",
       "      <td>2280328</td>\n",
       "      <td>6153.44</td>\n",
       "      <td>5835033</td>\n",
       "      <td>8782.938467</td>\n",
       "    </tr>\n",
       "    <tr>\n",
       "      <th>4</th>\n",
       "      <td>4</td>\n",
       "      <td>2019</td>\n",
       "      <td>8171087</td>\n",
       "      <td>2489.3</td>\n",
       "      <td>40975</td>\n",
       "      <td>2438518</td>\n",
       "      <td>6487.27</td>\n",
       "      <td>6090632</td>\n",
       "      <td>9118.122071</td>\n",
       "    </tr>\n",
       "  </tbody>\n",
       "</table>\n",
       "</div>"
      ],
      "text/plain": [
       "   index  Date  US Total  US Rate per 100,000  Australia Total  Canada Total  \\\n",
       "0      0  2015   9258298               2885.1            64014       2118681   \n",
       "1      1  2016   9214136               2849.1            61198       2161927   \n",
       "2      2  2017   8966863               2757.8            61237       2213293   \n",
       "3      3  2018   8471483               2593.2            53583       2280328   \n",
       "4      4  2019   8171087               2489.3            40975       2438518   \n",
       "\n",
       "   Canada Rate per 100,000  UK Total  UK Rate per 100,000  \n",
       "0                  5934.20   3402114          5225.178928  \n",
       "1                  5987.14   4814467          7333.760358  \n",
       "2                  6056.63   5457761          8264.301138  \n",
       "3                  6153.44   5835033          8782.938467  \n",
       "4                  6487.27   6090632          9118.122071  "
      ]
     },
     "execution_count": 17,
     "metadata": {},
     "output_type": "execute_result"
    }
   ],
   "source": [
    "pd.read_sql(\"SELECT * FROM combined_data\", engine)"
   ]
  },
  {
   "cell_type": "code",
   "execution_count": 18,
   "metadata": {},
   "outputs": [
    {
     "data": {
      "text/html": [
       "<div>\n",
       "<style scoped>\n",
       "    .dataframe tbody tr th:only-of-type {\n",
       "        vertical-align: middle;\n",
       "    }\n",
       "\n",
       "    .dataframe tbody tr th {\n",
       "        vertical-align: top;\n",
       "    }\n",
       "\n",
       "    .dataframe thead th {\n",
       "        text-align: right;\n",
       "    }\n",
       "</style>\n",
       "<table border=\"1\" class=\"dataframe\">\n",
       "  <thead>\n",
       "    <tr style=\"text-align: right;\">\n",
       "      <th></th>\n",
       "      <th>year</th>\n",
       "      <th>Number</th>\n",
       "      <th>Population</th>\n",
       "      <th>Rate per 100,000</th>\n",
       "    </tr>\n",
       "  </thead>\n",
       "  <tbody>\n",
       "    <tr>\n",
       "      <th>0</th>\n",
       "      <td>15</td>\n",
       "      <td>3402114</td>\n",
       "      <td>65110000.0</td>\n",
       "      <td>5225.178928</td>\n",
       "    </tr>\n",
       "    <tr>\n",
       "      <th>1</th>\n",
       "      <td>16</td>\n",
       "      <td>4814467</td>\n",
       "      <td>65648000.0</td>\n",
       "      <td>7333.760358</td>\n",
       "    </tr>\n",
       "    <tr>\n",
       "      <th>2</th>\n",
       "      <td>17</td>\n",
       "      <td>5457761</td>\n",
       "      <td>66040200.0</td>\n",
       "      <td>8264.301138</td>\n",
       "    </tr>\n",
       "    <tr>\n",
       "      <th>3</th>\n",
       "      <td>18</td>\n",
       "      <td>5835033</td>\n",
       "      <td>66436000.0</td>\n",
       "      <td>8782.938467</td>\n",
       "    </tr>\n",
       "    <tr>\n",
       "      <th>4</th>\n",
       "      <td>19</td>\n",
       "      <td>6090632</td>\n",
       "      <td>66797000.0</td>\n",
       "      <td>9118.122071</td>\n",
       "    </tr>\n",
       "  </tbody>\n",
       "</table>\n",
       "</div>"
      ],
      "text/plain": [
       "  year   Number  Population  Rate per 100,000\n",
       "0   15  3402114  65110000.0       5225.178928\n",
       "1   16  4814467  65648000.0       7333.760358\n",
       "2   17  5457761  66040200.0       8264.301138\n",
       "3   18  5835033  66436000.0       8782.938467\n",
       "4   19  6090632  66797000.0       9118.122071"
      ]
     },
     "execution_count": 18,
     "metadata": {},
     "output_type": "execute_result"
    }
   ],
   "source": [
    "pd.read_sql(\"SELECT * FROM UK_data\", engine)"
   ]
  },
  {
   "cell_type": "code",
   "execution_count": 19,
   "metadata": {},
   "outputs": [
    {
     "data": {
      "text/html": [
       "<div>\n",
       "<style scoped>\n",
       "    .dataframe tbody tr th:only-of-type {\n",
       "        vertical-align: middle;\n",
       "    }\n",
       "\n",
       "    .dataframe tbody tr th {\n",
       "        vertical-align: top;\n",
       "    }\n",
       "\n",
       "    .dataframe thead th {\n",
       "        text-align: right;\n",
       "    }\n",
       "</style>\n",
       "<table border=\"1\" class=\"dataframe\">\n",
       "  <thead>\n",
       "    <tr style=\"text-align: right;\">\n",
       "      <th></th>\n",
       "      <th>index</th>\n",
       "      <th>Number</th>\n",
       "      <th>Rate per 100,000</th>\n",
       "      <th>Population</th>\n",
       "    </tr>\n",
       "  </thead>\n",
       "  <tbody>\n",
       "    <tr>\n",
       "      <th>0</th>\n",
       "      <td>2015</td>\n",
       "      <td>2118681</td>\n",
       "      <td>5934.20</td>\n",
       "      <td>35702892</td>\n",
       "    </tr>\n",
       "    <tr>\n",
       "      <th>1</th>\n",
       "      <td>2016</td>\n",
       "      <td>2161927</td>\n",
       "      <td>5987.14</td>\n",
       "      <td>36109511</td>\n",
       "    </tr>\n",
       "    <tr>\n",
       "      <th>2</th>\n",
       "      <td>2017</td>\n",
       "      <td>2213293</td>\n",
       "      <td>6056.63</td>\n",
       "      <td>36543309</td>\n",
       "    </tr>\n",
       "    <tr>\n",
       "      <th>3</th>\n",
       "      <td>2018</td>\n",
       "      <td>2280328</td>\n",
       "      <td>6153.44</td>\n",
       "      <td>37057776</td>\n",
       "    </tr>\n",
       "    <tr>\n",
       "      <th>4</th>\n",
       "      <td>2019</td>\n",
       "      <td>2438518</td>\n",
       "      <td>6487.27</td>\n",
       "      <td>37589279</td>\n",
       "    </tr>\n",
       "  </tbody>\n",
       "</table>\n",
       "</div>"
      ],
      "text/plain": [
       "  index   Number  Rate per 100,000  Population\n",
       "0  2015  2118681           5934.20    35702892\n",
       "1  2016  2161927           5987.14    36109511\n",
       "2  2017  2213293           6056.63    36543309\n",
       "3  2018  2280328           6153.44    37057776\n",
       "4  2019  2438518           6487.27    37589279"
      ]
     },
     "execution_count": 19,
     "metadata": {},
     "output_type": "execute_result"
    }
   ],
   "source": [
    "pd.read_sql(\"SELECT * FROM Canada_data\", engine)"
   ]
  },
  {
   "cell_type": "code",
   "execution_count": 20,
   "metadata": {},
   "outputs": [
    {
     "data": {
      "text/html": [
       "<div>\n",
       "<style scoped>\n",
       "    .dataframe tbody tr th:only-of-type {\n",
       "        vertical-align: middle;\n",
       "    }\n",
       "\n",
       "    .dataframe tbody tr th {\n",
       "        vertical-align: top;\n",
       "    }\n",
       "\n",
       "    .dataframe thead th {\n",
       "        text-align: right;\n",
       "    }\n",
       "</style>\n",
       "<table border=\"1\" class=\"dataframe\">\n",
       "  <thead>\n",
       "    <tr style=\"text-align: right;\">\n",
       "      <th></th>\n",
       "      <th>index</th>\n",
       "      <th>Date</th>\n",
       "      <th>Number</th>\n",
       "      <th>Rate per 100,000</th>\n",
       "      <th>Population</th>\n",
       "    </tr>\n",
       "  </thead>\n",
       "  <tbody>\n",
       "    <tr>\n",
       "      <th>0</th>\n",
       "      <td>0</td>\n",
       "      <td>2015</td>\n",
       "      <td>9258298</td>\n",
       "      <td>2885.1</td>\n",
       "      <td>320900419</td>\n",
       "    </tr>\n",
       "    <tr>\n",
       "      <th>1</th>\n",
       "      <td>1</td>\n",
       "      <td>2016</td>\n",
       "      <td>9214136</td>\n",
       "      <td>2849.1</td>\n",
       "      <td>323405145</td>\n",
       "    </tr>\n",
       "    <tr>\n",
       "      <th>2</th>\n",
       "      <td>2</td>\n",
       "      <td>2017</td>\n",
       "      <td>8966863</td>\n",
       "      <td>2757.8</td>\n",
       "      <td>325145515</td>\n",
       "    </tr>\n",
       "    <tr>\n",
       "      <th>3</th>\n",
       "      <td>3</td>\n",
       "      <td>2018</td>\n",
       "      <td>8471483</td>\n",
       "      <td>2593.2</td>\n",
       "      <td>326680665</td>\n",
       "    </tr>\n",
       "    <tr>\n",
       "      <th>4</th>\n",
       "      <td>4</td>\n",
       "      <td>2019</td>\n",
       "      <td>8171087</td>\n",
       "      <td>2489.3</td>\n",
       "      <td>328248383</td>\n",
       "    </tr>\n",
       "  </tbody>\n",
       "</table>\n",
       "</div>"
      ],
      "text/plain": [
       "   index  Date   Number  Rate per 100,000  Population\n",
       "0      0  2015  9258298            2885.1   320900419\n",
       "1      1  2016  9214136            2849.1   323405145\n",
       "2      2  2017  8966863            2757.8   325145515\n",
       "3      3  2018  8471483            2593.2   326680665\n",
       "4      4  2019  8171087            2489.3   328248383"
      ]
     },
     "execution_count": 20,
     "metadata": {},
     "output_type": "execute_result"
    }
   ],
   "source": [
    "pd.read_sql(\"SELECT * FROM US_data\", engine)"
   ]
  },
  {
   "cell_type": "code",
   "execution_count": 21,
   "metadata": {},
   "outputs": [
    {
     "data": {
      "text/html": [
       "<div>\n",
       "<style scoped>\n",
       "    .dataframe tbody tr th:only-of-type {\n",
       "        vertical-align: middle;\n",
       "    }\n",
       "\n",
       "    .dataframe tbody tr th {\n",
       "        vertical-align: top;\n",
       "    }\n",
       "\n",
       "    .dataframe thead th {\n",
       "        text-align: right;\n",
       "    }\n",
       "</style>\n",
       "<table border=\"1\" class=\"dataframe\">\n",
       "  <thead>\n",
       "    <tr style=\"text-align: right;\">\n",
       "      <th></th>\n",
       "      <th>index</th>\n",
       "      <th>Date</th>\n",
       "      <th>Numbers</th>\n",
       "    </tr>\n",
       "  </thead>\n",
       "  <tbody>\n",
       "    <tr>\n",
       "      <th>0</th>\n",
       "      <td>0</td>\n",
       "      <td>2015-16</td>\n",
       "      <td>64014</td>\n",
       "    </tr>\n",
       "    <tr>\n",
       "      <th>1</th>\n",
       "      <td>1</td>\n",
       "      <td>2016-17</td>\n",
       "      <td>61198</td>\n",
       "    </tr>\n",
       "    <tr>\n",
       "      <th>2</th>\n",
       "      <td>2</td>\n",
       "      <td>2017-18</td>\n",
       "      <td>61237</td>\n",
       "    </tr>\n",
       "    <tr>\n",
       "      <th>3</th>\n",
       "      <td>3</td>\n",
       "      <td>2018-19</td>\n",
       "      <td>53583</td>\n",
       "    </tr>\n",
       "    <tr>\n",
       "      <th>4</th>\n",
       "      <td>4</td>\n",
       "      <td>2019-20</td>\n",
       "      <td>40975</td>\n",
       "    </tr>\n",
       "  </tbody>\n",
       "</table>\n",
       "</div>"
      ],
      "text/plain": [
       "   index     Date  Numbers\n",
       "0      0  2015-16    64014\n",
       "1      1  2016-17    61198\n",
       "2      2  2017-18    61237\n",
       "3      3  2018-19    53583\n",
       "4      4  2019-20    40975"
      ]
     },
     "execution_count": 21,
     "metadata": {},
     "output_type": "execute_result"
    }
   ],
   "source": [
    "pd.read_sql(\"SELECT * FROM AUS_data\", engine)"
   ]
  },
  {
   "cell_type": "markdown",
   "metadata": {},
   "source": [
    "**SQL Database Report**"
   ]
  },
  {
   "cell_type": "markdown",
   "metadata": {},
   "source": [
    "Both the combined dataframe and the individual dataframe from each country were loaded into the SQL database."
   ]
  },
  {
   "cell_type": "markdown",
   "metadata": {},
   "source": [
    "# VISUALIZATIONS"
   ]
  },
  {
   "cell_type": "code",
   "execution_count": 22,
   "metadata": {},
   "outputs": [
    {
     "data": {
      "image/png": "[encoded data removed]",
      "text/plain": [
       "<Figure size 432x288 with 1 Axes>"
      ]
     },
     "metadata": {
      "needs_background": "light"
     },
     "output_type": "display_data"
    }
   ],
   "source": [
    "# Canada\n",
    "plt.figure()\n",
    "plt.bar(data['Date'], data['Canada Total'], width = 0.7, color = ('red', 'green', 'blue', 'orangered', 'purple'))\n",
    "plt.xlabel('Year', fontsize = 12, fontweight = 'bold')\n",
    "plt.ylabel('Numbers (in million)', fontsize = 12, fontweight = 'bold')\n",
    "plt.xticks(fontweight = 'bold')\n",
    "plt.yticks(fontweight = 'bold')\n",
    "plt.title('Number of Crimes in Canada', fontsize = 15, fontweight = 'bold')\n",
    "plt.show()"
   ]
  },
  {
   "cell_type": "code",
   "execution_count": 23,
   "metadata": {},
   "outputs": [
    {
     "data": {
      "image/png": "[encoded data removed]",
      "text/plain": [
       "<Figure size 432x288 with 1 Axes>"
      ]
     },
     "metadata": {
      "needs_background": "light"
     },
     "output_type": "display_data"
    }
   ],
   "source": [
    "# UK\n",
    "plt.figure()\n",
    "plt.bar(data['Date'], data['UK Total'], width = 0.7, color = ('red', 'green', 'blue', 'orangered', 'purple'))\n",
    "plt.xlabel('Year', fontsize = 12, fontweight = 'bold')\n",
    "plt.ylabel('Numbers (in million)', fontsize = 12, fontweight = 'bold')\n",
    "plt.xticks(fontweight = 'bold')\n",
    "plt.yticks(fontweight = 'bold')\n",
    "plt.title('Number of Crimes in UK', fontsize = 15, fontweight = 'bold')\n",
    "plt.show()"
   ]
  },
  {
   "cell_type": "code",
   "execution_count": 24,
   "metadata": {},
   "outputs": [
    {
     "data": {
      "image/png": "[encoded data removed]",
      "text/plain": [
       "<Figure size 432x288 with 1 Axes>"
      ]
     },
     "metadata": {
      "needs_background": "light"
     },
     "output_type": "display_data"
    }
   ],
   "source": [
    "# USA\n",
    "plt.figure()\n",
    "plt.bar(data['Date'],data['US Total'], width = 0.7, color = ('red', 'green', 'blue', 'orangered', 'purple'))\n",
    "plt.xlabel('Year', fontsize = 12, fontweight = 'bold')\n",
    "plt.ylabel('Number (in million)', fontsize = 12, fontweight = 'bold')\n",
    "plt.xticks(fontweight = 'bold')\n",
    "plt.yticks(fontweight = 'bold')\n",
    "plt.title('Number of Crimes in USA', fontsize = 15, fontweight = 'bold')\n",
    "plt.show()"
   ]
  },
  {
   "cell_type": "code",
   "execution_count": 25,
   "metadata": {},
   "outputs": [
    {
     "data": {
      "image/png": "[encoded data removed]",
      "text/plain": [
       "<Figure size 432x288 with 1 Axes>"
      ]
     },
     "metadata": {
      "needs_background": "light"
     },
     "output_type": "display_data"
    }
   ],
   "source": [
    "# Australia\n",
    "plt.figure()\n",
    "data['Australia'] = data['Australia Total'] * 100\n",
    "plt.bar(data['Date'], data['Australia'], width = 0.7, color = ('red', 'green', 'blue', 'orangered', 'purple'))\n",
    "plt.xlabel('Year', fontsize = 12, fontweight = 'bold')\n",
    "plt.ylabel('Numbers (indexed in million)', fontsize = 12, fontweight = 'bold')\n",
    "plt.xticks(fontweight = 'bold')\n",
    "plt.yticks(fontweight = 'bold')\n",
    "plt.title('Number of Crimes in Australia', fontsize = 15, fontweight = 'bold')\n",
    "plt.show()"
   ]
  }
 ],
 "metadata": {
  "kernelspec": {
   "display_name": "Python 3",
   "language": "python",
   "name": "python3"
  },
  "language_info": {
   "codemirror_mode": {
    "name": "ipython",
    "version": 3
   },
   "file_extension": ".py",
   "mimetype": "text/x-python",
   "name": "python",
   "nbconvert_exporter": "python",
   "pygments_lexer": "ipython3",
   "version": "3.8.6"
  }
 },
 "nbformat": 4,
 "nbformat_minor": 4
}
